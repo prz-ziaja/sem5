{
 "cells": [
  {
   "cell_type": "markdown",
   "metadata": {
    "pycharm": {
     "name": "#%% md\n"
    }
   },
   "source": [
    "# Detekcja krawędzi"
   ]
  },
  {
   "cell_type": "markdown",
   "metadata": {
    "pycharm": {
     "name": "#%% md\n"
    }
   },
   "source": [
    "## Cel ćwiczenia\n",
    "\n",
    "- Zapoznanie z metodami detekcji krawędzi:\n",
    "    - Sobel, Prewitt, Roberts - przypomnienie,\n",
    "    - Laplasjan z Gaussa (LoG – ang. Laplacian of Gaussian),\n",
    "    - Canny.\n",
    "\n",
    "Detekcja krawędzi przez wiele lat była podstawą algorytmów segmentacji.\n",
    "Krawędzie wykrywane są najczęściej z wykorzystaniem pierwszej (gradient) i drugiej (Laplasjan) pochodnej przestrzennej.\n",
    "Wykorzystanie obu metod zaprezentowane zostało w ćwiczeniu *Przetwarzanie wstępne. Filtracja kontekstowa*.\n",
    "\n",
    "W niniejszym ćwiczeniu poznane detektory krawędzi zostaną porównane z bardziej zaawansowanymi: Laplasjan z funkcji Gaussa (LoG), Zero Crossing i Canny."
   ]
  },
  {
   "cell_type": "markdown",
   "metadata": {
    "pycharm": {
     "name": "#%% md\n"
    }
   },
   "source": [
    "## Laplasjan z Gaussa (LoG)\n",
    "\n",
    "Funkcja Gaussa:<br>\n",
    "\\begin{equation}\n",
    "h(r) = e^{\\frac{-r^2}{2 \\sigma^2}}\n",
    "\\end{equation}<br>\n",
    "gdzie:\n",
    "- $r^2 = x^2 + y^2$\n",
    "- $\\sigma$ to odchylenie standardowe.\n",
    "\n",
    "Działanie filtracji Gaussowskiej zostało przedstawione w ćwiczeniu \"Przetwarzanie wstępne\". W jej wyniku następuje rozmazanie obrazu.\n",
    "Laplasjan z~tej funkcji dany jest wzorem:\n",
    "\n",
    "\\begin{equation}\n",
    "\\nabla^2 h(r) = \\frac{r^2 - 2\\sigma^2}{\\sigma^4} e^{-\\frac{r^2}{2\\sigma^2}}\n",
    "\\end{equation}\n",
    "\n",
    "Funkcję (z oczywistych powodów) nazywamy Laplasjan z Gaussa (LoG).\n",
    "Ponieważ druga pochodna jest operacją liniową, konwolucja obrazu z $\\nabla^2 h(r)$ daje taki sam efekt jak zastosowanie filtracji Gaussa na obrazie, a następnie obliczenie Laplasjanu z wyniku.\n",
    "Lokalizacja krawędzi polega na znalezieniu miejsca, gdzie po filtracji LoG następuje zmiana znaku.\n",
    "\n",
    "1. Wczytaj obraz *house.png*.\n",
    "2. Wykonaj rocie Gaussowskie obrazu wejściowego.\n",
    "W tym celu wykorzysaj funkcję `cv2.GaussianBlur(img, kSize, sigma)`.\n",
    "Pierwszy argument jest obrazem wejśćiowym.\n",
    "Drugi jest rozmiarem filtru (podanym w nawiasach okrągłych, np. *(3, 3)*.\n",
    "Trzecim argumentem jest odchyleniem standardowym. Wartość jest dob\n",
    "3. Oblicz laplasjan obrazu rozmytego.\n",
    "W tym celu wykorzysaj funkcję `cv2.Laplacian(img, ddepth)`.\n",
    "Pierszym argumentem jest obraz wejściowy.\n",
    "Drugim argumentem jest typ danych wejściowych. Użyj `cv2.CV_32F`.\n",
    "4. Wyznacz miejsca zmiany znaku.\n",
    "Zaimplementuj funkcję `crossing(LoG, thr)`:\n",
    "    - Najpierw stwórz tablicę, do której zostanie zapisany wynik.\n",
    "    Jej rozmiar jest taki sam jak przetwarzanego obrazu.\n",
    "    - Następnie wykonaj pętle po obrazie (bez ramki jednopikselowej).\n",
    "    W każdej iteracji stwórz otoczenie o rozmiarze $3 \\times 3$.\n",
    "    Dla otoczenia oblicz wartość maksymalną i minimalną.\n",
    "    - Jeśli wartości te mają przeciwne znaki, to do danego miejsca tablicy przypisz wartość:\n",
    "        - jeśli piksel wejściowy > 0, to dodaj do niego wartość bezwzględną minimum.\n",
    "        - jeśli piksel wejściowy < 0, to do jego wartości bezwzględnej dodaj maksimum.\n",
    "    - Zmień zakres wykonanej tablicy do $<0, 255>$.\n",
    "    - Wykonaj probowanie tablicy. Próg jest argumentem wejściowym.\n",
    "    - Przeskaluj dane binarne do wartości `[0, 255]`.\n",
    "    - Wykonaj konwersję do typu *uint8*.\n",
    "    - Wykonaj rozmycie medianowe wyniku.\n",
    "    Wykorzystaj funkcję `cv2.medianBlur(img, kSize)`.\n",
    "    Pierwszym argumentem jest obraz wejśćiowy, a drugim rozmiar filtra.\n",
    "    - Zwróć wyznaczoną tablicę.\n",
    "5. Wyświetl obraz wynikowy.\n",
    "6. Dobierz parametry (rozmiar filtru Gaussa, odchylenie standardowe, próg binaryzacji) tak, by widoczne były kontury domu, ale nie dachówki."
   ]
  },
  {
   "cell_type": "code",
   "execution_count": null,
   "metadata": {
    "pycharm": {
     "name": "#%% Zadanie 1 - LoG\n"
    }
   },
   "outputs": [],
   "source": [
    "import cv2\n",
    "from matplotlib import pyplot as plt\n",
    "import numpy as np\n",
    "import math\n",
    "import os\n",
    "\n",
    "if not os.path.exists(\"dom.png\") :\n",
    "    !wget https://raw.githubusercontent.com/vision-agh/poc_sw/master/09_Canny/dom.png --no-check-certificate\n",
    "\n",
    "house = cv2.imread('dom.png',cv2.IMREAD_GRAYSCALE)"
   ]
  },
  {
   "cell_type": "code",
   "execution_count": null,
   "metadata": {},
   "outputs": [],
   "source": [
    "def crossing(img,thr=128):\n",
    "    empty_table = np.zeros(img.shape)\n",
    "    for i in range(1,img.shape[0]):\n",
    "        for j in range(1,img.shape[1]):\n",
    "            frame = img[i-1:i+2,j-1:j+2]\n",
    "            min_val = frame.min()\n",
    "            max_val = frame.max()\n",
    "            if min_val * max_val<0:\n",
    "                if frame[1,1]>0:\n",
    "                    empty_table[i,j] = img[i,j]+np.abs(min_val)\n",
    "                else:\n",
    "                    empty_table[i,j] = np.abs(img[i,j]) + max_val\n",
    "            else:\n",
    "                empty_table[i,j] = img[i,j]\n",
    "    temp = (empty_table-np.min(empty_table))\n",
    "    to_thr = temp/np.max(temp)*255\n",
    "    print(np.sum(to_thr>thr))\n",
    "    binary_tab = to_thr>thr\n",
    "    to_blur = binary_tab.astype('uint8')*255\n",
    "    output = cv2.medianBlur(to_blur, 3)\n",
    "    return output\n",
    "\n",
    "gaussian_house = cv2.GaussianBlur(house,(5,5),1.75)\n",
    "lp_house = cv2.Laplacian(gaussian_house, cv2.CV_32F)"
   ]
  },
  {
   "cell_type": "code",
   "execution_count": null,
   "metadata": {},
   "outputs": [],
   "source": [
    "edges = crossing(lp_house,155)\n",
    "plt.imshow(edges,'gray')"
   ]
  },
  {
   "cell_type": "markdown",
   "metadata": {
    "pycharm": {
     "name": "#%% md\n"
    }
   },
   "source": [
    "## Algorytm Canny'ego\n",
    "\n",
    "> Algorytm Canny'ego to często wykorzystywana metoda detekcji krawędzi.\n",
    "> Zaproponowana została w~1986r. przez Johna F. Cannego.\n",
    "> Przy jego projektowaniu założono trzy cele:\n",
    "> - niska liczba błędów - algorytm powinien znajdywać wszystkie krawędzie oraz generować jak najmniej fałszywych detekcji,\n",
    "> - punkty krawędziowe powinny być poprawnie lokalizowane - wykryte punkty powinny być jak najbardziej zbliżone do rzeczywistych,\n",
    "> - krawędzie o szerokości 1 piksela - algorytm powinien zwrócić jeden punkt dla każdej rzeczywistej krawędzi.\n",
    "\n",
    "Zaimplementuj algorytm detekcji krawędziCanny'ego:\n",
    "1. W pierwszym kroku obraz przefiltruj dwuwymiarowym filtrem Gaussa.\n",
    "2. Następnie oblicz gradient pionowy i poziomy ($g_x $ i $g_y$).\n",
    "Jedną z metod jest filtracja Sobela.\n",
    "3. Dalej oblicz amplitudę:\n",
    "$M(x,y)  = \\sqrt{g_x^2+g_y^2}$ oraz kąt:\n",
    "$\\alpha(x,y) = arctan(\\frac{g_y}{g_x})$.\n",
    "Do obliczenia kąta wykorzystaj funkcję `np.arctan2(x1, x2)`.\n",
    "Wynik jest w radianach.\n",
    "4. W kolejnym etapie wykonaj kwantyzację kątów gradientu.\n",
    "Kąty od $-180^\\circ$ do $180^\\circ$ można podzielić na 8 przedziałów:\n",
    "[$-22.5^\\circ, 22.5^\\circ$], [$22.5^\\circ, 67.5^\\circ$],\n",
    "[$67.5^\\circ, 112.5^\\circ$], [$112.5^\\circ, 157.5^\\circ$],\n",
    "[$157.5^\\circ, -157.5^\\circ$], [$-157.5^\\circ, -112.5^\\circ$],\n",
    "[$-112.5^\\circ, -67.5^\\circ$], [$-67.5^\\circ, -22.5^\\circ$].\n",
    "Przy czym należy rozpatrywać tylko 4 kierunki:\n",
    "    - pionowy ($d_1$),\n",
    "    - poziomy ($d_2$),\n",
    "    - skośny lewy ($d_3$),\n",
    "    - skośny prawy ($d_4$).\n",
    "5. Dalej przeprowadź eliminację pikseli, które nie mają wartości maksymalnej (ang. *nonmaximal suppresion*).\n",
    "Celem tej operacji jest redukcja szerokości krawędzi do rozmiaru 1 piksela.\n",
    "Algorytm przebiega następująco.\n",
    "W rozpatrywanym otoczeniu o rozmiarze $3 \\times 3$:\n",
    "    - określ do którego przedziału należy kierunek gradientu piksela centralnego ($d_1, d_2, d_3, d_4$).\n",
    "    - przeanalizuje sąsiadów leżących na tym kierunku.\n",
    "Jeśli choć jeden z nich ma amplitudę większą niż piksel centralny, to należy uznać, że nie jest lokalnym maksimum i do wyniku przypisać $g_N(x,y) = 0$.\n",
    "W przeciwnym przypadku $g_N(x,y) = M(x,y)$.\n",
    "Przez $g_N$ rozumiemy obraz detekcji lokalnych maksimów.\n",
    "Zaimplementuj funkcję `nonmax`.\n",
    "Pierwszym argementem jest macierz kierunków (po kwantyzacji).\n",
    "Drugim argumentem jest macierz amplitudy.\n",
    "6. Ostatnią operacją jest binaryzacja obrazu $g_N$.\n",
    "Stosuje się tutaj tzw. binaryzację z histerezą.\n",
    "Wykorzystuje się w niej dwa progi: $T_L$ i $T_H$, przy czym $T_L < T_H$.\n",
    "Canny zaproponował, aby stosunek progu wyższego do niższego był jak 3 lub 2 do 1.\n",
    "Rezultaty binaryzacji można opisać jako:<br>\n",
    "$g_{NH}(x,y) = g_N(x,y) \\geq TH $<br>\n",
    "$g_{NL}(x,y) = TH > g_N(x,y) \\geq TL $<br>\n",
    "Można powiedzieć, że na obrazie $g_{NH}$ są \"pewne\" krawędzie.\n",
    "Natomiast na $g_{NL}$ \"potencjalne\".\n",
    "Często krawędzie \"pewne\" nie są ciągłe.\n",
    "Dlatego wykorzystuje się obraz $g_{NL}$ w następującej procedurze:\n",
    "    - Stwórz stos zawierający wszystkie piksele zaznaczone na obrazie $g_{NH}$.\n",
    "W tym celu wykorzystaj listę współrzędnych `[row, col]`.\n",
    "Do pobrania elementu z początku służy metoda `list.pop()`.\n",
    "Do dodania elementu na koniec listy służy metoda `list.append(new)`.\n",
    "    - Stwórz obraz, który będzie zawierał informację czy dany piksel został już odwiedzony.\n",
    "    - Stwórz obraz, któy zawierać będzie wynikowe krawędzie.\n",
    "Jej rozmiar jest równy rozmiarowi obrazu.\n",
    "    - Wykonaj pętlę, która będzie pobierać elementy z listy, dopóki ta nie będzie pusta.\n",
    "W tym celu najlepiej sprawdzi się pętla `while`.\n",
    "    - W każdej iteracji pobierz element ze stosu.\n",
    "    - Sprawdź czy dany element został już odwiedzony.\n",
    "    - Jeśli nie został, to:\n",
    "        - Oznacz go jako odwiedzony,\n",
    "        - Oznacz piksel jako krawędź w wyniku,\n",
    "        - Sprawdź otoczenie piksela w obrazie $g_{NL}$,\n",
    "        - Dodaj do stosu współrzędne otoczenia, które zawierają krawędź.\n",
    "        Można to wykoanać np. pętlą po stworzonym otoczeniu.\n",
    "7. Wyświetl obraz oryginalny, obraz $g_{NH} oraz obraz wynikowy.\n",
    "\n",
    "    - zlokalizuj następny \"nieodwiedzony\" piksel krawędziowy $p$ na obrazie $g_{NH}$,\n",
    "    - oznacz jako poprawne piksele wszystkie \"potencjalne\" połączone z $p$ (w oknie $3 \\times 3$),\n",
    "    - kontynuuj dla wszystkich piksli z $g_{NH}$,\n",
    "    - zamień na 0 wszystkie piksele z $g_{NL}$, które nie zostały oznaczone jako poprawne.\n",
    "\n",
    "Ostateczny rezultat detekcji krawędzi powstaje jako suma $g_{NH}$ i $g_{NL}$ (poprawnych).\n",
    "\n",
    "Pomocnicze obrazy $g_{NH}$ i $g_{NL}$ zostały wprowadzone dla uproszczenia opisu.\n",
    "Algorytm można zaimplementować wbardziej \"zwarty\" sposób.\n",
    "\n",
    "Na podstawie powyższego opisu zaimplementuj algorytm Cannego."
   ]
  },
  {
   "cell_type": "code",
   "execution_count": null,
   "metadata": {
    "pycharm": {
     "name": "#%% Zadanie 2 - Canny\n"
    }
   },
   "outputs": [],
   "source": [
    "img = house\n",
    "TH = 200\n",
    "TL = 150\n",
    "gaussian_img = cv2.GaussianBlur(img,(3,3),1)\n",
    "x_der = cv2.Sobel(img,cv2.CV_64F,1,0,ksize=3)\n",
    "y_der = cv2.Sobel(img,cv2.CV_64F,0,1,ksize=3)\n",
    "mag = np.sqrt(x_der**2+y_der**2)\n",
    "alpha = np.arctan2(y_der, x_der)\n",
    "quant_alpha = np.zeros(alpha.shape)\n",
    "for i, j in enumerate([(-1,1),(1,3),(3,5),(5,7),(7,-7),(-7,-5),(-5,-3),(-3,-1)]):\n",
    "    a,b=j\n",
    "    quant_alpha[(a*np.pi/8<alpha)|(b*np.pi/8>=alpha)]=i%4\n",
    "gn = np.zeros(img.shape)\n",
    "for i in range(1,quant_alpha.shape[0]-1):\n",
    "    for j in range(1,quant_alpha.shape[1]-1):\n",
    "        q=255\n",
    "        r=255\n",
    "        if alpha[i,j]==0:\n",
    "            q = mag[i, j+1]\n",
    "            r = mag[i, j-1]\n",
    "        elif alpha[i,j]==1:\n",
    "            q = mag[i+1, j-1]\n",
    "            r = mag[i-1, j+1]\n",
    "        elif alpha[i,j]==2:\n",
    "            q = mag[i+1, j]\n",
    "            r = mag[i-1, j]\n",
    "        elif alpha[i,j]==3:\n",
    "            q = mag[i-1, j-1]\n",
    "            r = mag[i+1, j+1]\n",
    "\n",
    "        if (mag[i,j] >= q) and (mag[i,j] >= r):\n",
    "            gn[i,j] = mag[i,j]       \n",
    "\n",
    "gnh = gn >= TH\n",
    "gnl = (gn > TL)&(gn<TH)\n",
    "stack = [(i,j) for i in range(img.shape[0]) for j in range(img.shape[1]) if gnh[i,j]]\n",
    "visited = np.zeros(gnh.shape,dtype='bool')\n",
    "output = np.zeros(gnh.shape)\n",
    "while stack:\n",
    "    elem = stack.pop()\n",
    "    if not(visited[elem]):\n",
    "        visited[elem]=True\n",
    "        output[elem] = 255\n",
    "        i,j=elem\n",
    "        for x in range(np.max([0,i-1]),np.min([gnh.shape[0],i+2])):\n",
    "            for y in range(np.max([0,j-1]),np.min([j+2,gnh.shape[1]])):\n",
    "                if gnl[x,y]:\n",
    "                    stack.append((x,y))\n",
    "plt.imshow(output,'gray')\n",
    "        "
   ]
  },
  {
   "cell_type": "markdown",
   "metadata": {
    "pycharm": {
     "name": "#%% md\n"
    }
   },
   "source": [
    "## Algorytm Canny'ego - OpenCV\n",
    "\n",
    "1. Wykonaj dektekcję krawędzi metodą Canny'ego wykorzystując funkcję `cv2.Canny`.\n",
    "    - Pierwszym argumentem funkcji jest obraz wejściowy.\n",
    "    - Drugim argumentem jest mniejszy próg.\n",
    "    - Trzecim argumentem jest większy próg.\n",
    "    - Czwarty argument to tablica, do której wpisany zostanie wynik.\n",
    "    Można zwrócić go przez wartość i podać wartość `None`.\n",
    "    - Piąty argument to rozmiar operatora Sobela (w naszym przypadku 3).\n",
    "    - Szósty argument to rodzaj używanej normy.\n",
    "    0 oznacza normę $L_1$, 1 oznacza normę $L_2$. Użyj $L_2$.\n",
    "2. Wynik wyświetl i porównaj z własną implementacją."
   ]
  },
  {
   "cell_type": "code",
   "execution_count": null,
   "metadata": {
    "pycharm": {
     "name": "#%% Zadanie 3 - Canny opencv\n"
    }
   },
   "outputs": [],
   "source": [
    "to_compare=cv2.Canny(house,150,200,None,3,1)\n",
    "plt.imshow(to_compare,'gray')"
   ]
  },
  {
   "cell_type": "code",
   "execution_count": null,
   "metadata": {},
   "outputs": [],
   "source": []
  }
 ],
 "metadata": {
  "kernelspec": {
   "display_name": "Python 3",
   "language": "python",
   "name": "python3"
  },
  "language_info": {
   "codemirror_mode": {
    "name": "ipython",
    "version": 3
   },
   "file_extension": ".py",
   "mimetype": "text/x-python",
   "name": "python",
   "nbconvert_exporter": "python",
   "pygments_lexer": "ipython3",
   "version": "3.8.5"
  }
 },
 "nbformat": 4,
 "nbformat_minor": 4
}
