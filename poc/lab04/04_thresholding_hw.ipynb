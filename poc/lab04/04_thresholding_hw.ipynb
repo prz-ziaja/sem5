{
 "cells": [
  {
   "cell_type": "markdown",
   "metadata": {},
   "source": [
    "# Binaryzacja\n",
    "\n",
    "### Zadanie domowe - binaryzacja adaptacyjna w oknach z interpolacją.\n",
    "\n",
    "Pokazana w ramach podstawowej części ćwiczenia binaryzacja adaptacyjna działa dobrze, ale jest dość złożona obliczeniowo (choć oczywiście należy mieć świadomość, że implementację można zoptymalizować i wyeliminować pewne powtarzające się obliczenia).\n",
    "Binaryzację adaptacyjną można również realizować w nieco innym wariancie - w oknach.\n",
    "Ogólna idea jest następująca: wejściowy obraz dzielimy na nienachodzące (rozłączne) okna - wygodnie jest założyć, że są one kwadratowe i o rozmiarze będącym potęgą liczby 2.\n",
    "W każdym z okien obliczamy próg - niech to będzie średnia i stosujemy binaryzację lokalną.\n",
    "Jak nietrudno się domyślić efekt nie będzie dobry, gdyż na granicach okien wystąpią artefakty.\n",
    "Aby je wyeliminować należy zastosować interpolację, co zostanie szczegółowo opisane poniżej.\n",
    "Warto zaznaczyć, że podobny mechanizm interpolacji stosowany jest w poznanym wcześniej algorytmie CLAHE.\n",
    "\n"
   ]
  },
  {
   "cell_type": "markdown",
   "metadata": {},
   "source": [
    "Na początek zaimplementujemy wariant metody bez interpolacji:\n",
    "1. Wczytaj obraz _T.png_.\n",
    "2. W dwóch pętlach `for`, dla okien o ustalonym wymiarze $W$ (potęga 2), oblicz średnią:\n",
    "- pętle powinny mieć krok $W$,\n",
    "- wynik należy zapisać w pomocniczej tablicy,\n",
    "\n",
    "3. W kolejnych dwóch pętlach `for` (o kroku 1) przeprowadź binaryzację z wyznaczonymi progami.\n",
    "   Wyświetl wyniki - czy jest on poprawny?"
   ]
  },
  {
   "cell_type": "code",
   "execution_count": null,
   "metadata": {
    "pycharm": {
     "name": "#%%\n"
    }
   },
   "outputs": [],
   "source": [
    "# Obraz T.png nie jest dotępny\n",
    "import numpy as np, cv2, matplotlib.pyplot as plt\n",
    "catalogue = cv2.imread('catalogue.png',cv2.IMREAD_GRAYSCALE)\n",
    "def bin_int(img_org, W = 8):\n",
    "    img = np.copy(img_org)\n",
    "    (X, Y) = img.shape\n",
    "    to_bin = lambda x,y: 255 if x>=y else 0\n",
    "    frame_func = np.vectorize(to_bin)\n",
    "    for x in range(0,X,W):\n",
    "        for y in range(0,Y,W):\n",
    "            frame = img[x:x+W,y:y+W]\n",
    "            mean = np.mean(frame)\n",
    "            img[x:x+W,y:y+W] = frame_func(frame, mean)\n",
    "    return img\n",
    "plt.imshow(bin_int(catalogue,16),'gray')\n",
    "plt.show()"
   ]
  },
  {
   "cell_type": "markdown",
   "metadata": {},
   "source": [
    "4. Rozwiązaniem problemu artefaktów na obrazie jest zastosowanie interpolacji.\n",
    "   Próg binaryzacji dla danego okna wyliczany jest na podstawie progów z sąsiednich okien.\n",
    "   Możliwe są 3 przypadki:\n",
    "   - piksel leży w rogach obrazu - wtedy za próg przyjmuje się wartość dla danego okna,\n",
    "   - piksel leży na krawędzi obrazu - wtedy za próg przyjmuje się wartość obliczoną na podstawie dwóch okien,\n",
    "   - piksel leży w środku - wtedy próg jest obliczany na podstawie 4 sąsiednich okien.\n",
    "   Uwaga. Proszę to sobie \"rozrysować\" pamiętając o tym, że dane okno należy podzielić na cztery części (inaczej analiza nie będzie poprawna).\n",
    "\n",
    "5. Implementujemy interpolację.\n",
    "   Potrzebujemy do tego znać progi 1-4, ale dla przejrzystości obliczeń lepiej zawsze przyjąć 4 oraz odległości od rozważnego piksela do środka sąsiednich okien (też w ogólnym przypadku 4):\n",
    "   - całość sprowadza się do określania pozycji piksela,\n",
    "   - na początek rozważmy przypadek czterech narożników - trzeba napisać `if`, który je wyznaczy,\n",
    "   - warto sprawdzić, czy nie popełniliśmy błędu i np. tymczasowo do obrazu wynikowego w tym miejscu przypisać wartość 255. Efekt powinien być taki, że widoczne będą tylko narożniki.\n",
    "   - drugi przypadek do brzegi - postępujemy podobnie jak przy narożnikach, przy czym osobno wydzielamy brzegi pionowe i poziome. Tu też warto sobie obrazek \"pokolorować\".\n",
    "   - na koniec wyznaczamy piksele w środku.\n",
    "   - analizując poprawność proszę zwrócić uwagę na to, żeby nie było przerw pomiędzy obszarami.\n",
    "   - mając podział możemy dla każdego z obszarów wyliczyć cztery progi ($t11, t12, t21, t22$):\n",
    "        - dla narożników wartość ta będzie identyczna i wynosi po prostu `t11 =t[jT][iT]`, gdzie `iT=i//W` oraz `jT=j//W`.\n",
    "          Uwaga. Proszę używać indeksów tymczasowych $jT,iT$, gdyż będą potrzebne w dalszych obliczeniach.\n",
    "        - dla brzegów pionowych występują dwie wartości: okno bieżące i sąsiednie.\n",
    "          Wyznaczenie współrzędnej poziomej jest proste (jak dla narożników).\n",
    "          Nad współrzędną pionową trzeba się chwilę zastanowić - aby nie rozważać wielu przypadków można od bieżącej współrzędnej odjąć połowę rozmiaru okna i dopiero później wykonać dzielenie przez rozmiar okna.\n",
    "          W ten sposób otrzymujemy indeks okna o mniejszej współrzędnej.\n",
    "          Indeks drugiego uzyskamy dodając 1.\n",
    "          Proszę się zastanowić dlaczego to działa.\n",
    "        - dla brzegów poziomych należy postąpić analogicznie,\n",
    "        - obliczenia dla obszaru wewnątrz powinny być już oczywiste.\n",
    "   - kolejny krok to wyliczenie odległości pomiędzy rozważanym pikselem, a czterema środkami.\n",
    "     Przykładowo dla osi X wygląda to następująco: `dX1 = i - W/2 - iT*W` oraz `dX2 = (iT+1)*W - i-W/2`.\n",
    "     Dla osi Y analogicznie.\n",
    "     Ponownie proszę się zastanowić dlaczego to jest poprawne - najlepiej to sobie narysować.\n",
    "   - ostatni krok to interpolacja dwuliniowa.\n",
    "     Wykonamy ją w trzech krokach:\n",
    "     - interpolacja w osi X dla dwóch górnych okien - sprowadza się ona do średniej ważonej pomiędzy wartościami $t11$ i $t12$, przy czym wagi to odpowiednio $dX2/W$ i $dX1/W$.\n",
    "       Ponownie na podstawie rysunku proszę to przemyśleć.\n",
    "     - interpolacja w osi X dla dolnych okien jest analogiczna,\n",
    "     - interpolacja w osi Y również jest analogiczna, z tym, że wejściem są dwa wyniki interpolacji w poziomie.\n",
    "\n",
    "6. \"Kropka nad i\" to oczywiście binaryzacja z wyznaczonym poprzez interpolację progiem."
   ]
  },
  {
   "cell_type": "code",
   "execution_count": null,
   "metadata": {
    "pycharm": {
     "name": "#%%\n"
    }
   },
   "outputs": [],
   "source": [
    "def compute_weighted_threshold(cord,arr,W):\n",
    "    X, Y = cord\n",
    "    arrx = arr[:,:,1] - X\n",
    "    arry = arr[:,:,2] - Y\n",
    "    out = arrx**2+arry**2\n",
    "    arr_means= arr[:,:,0]\n",
    "    return np.average(arr_means[out<=W**2],weights=out[out<=W**2])\n",
    "\n",
    "    \n",
    "def bin_int(img_org, W = 8):\n",
    "    img = np.copy(img_org)\n",
    "    (X, Y) = img.shape\n",
    "    #thresholds and centers\n",
    "    th_cen = []\n",
    "    for x in range(0,X,W):\n",
    "        temp = []\n",
    "        for y in range(0,Y,W):\n",
    "            frame = img[x:x+W,y:y+W]\n",
    "            temp.append((np.mean(frame),x+int(W/2),y+int(W/2)))\n",
    "        th_cen.append(temp)\n",
    "    th_cen = np.array(th_cen)\n",
    "    for x in range(X):\n",
    "        for y in range(Y):\n",
    "            img[x,y] = 255 if compute_weighted_threshold((x,y),th_cen,W)<img[x,y] else 0\n",
    "    return img\n"
   ]
  },
  {
   "cell_type": "code",
   "execution_count": null,
   "metadata": {},
   "outputs": [],
   "source": [
    "plt.imshow(bin_int(catalogue,16),'gray')"
   ]
  },
  {
   "cell_type": "code",
   "execution_count": null,
   "metadata": {},
   "outputs": [],
   "source": []
  }
 ],
 "metadata": {
  "celltoolbar": "Raw Cell Format",
  "kernelspec": {
   "display_name": "Python 3",
   "language": "python",
   "name": "python3"
  },
  "language_info": {
   "codemirror_mode": {
    "name": "ipython",
    "version": 3
   },
   "file_extension": ".py",
   "mimetype": "text/x-python",
   "name": "python",
   "nbconvert_exporter": "python",
   "pygments_lexer": "ipython3",
   "version": "3.8.5"
  }
 },
 "nbformat": 4,
 "nbformat_minor": 4
}
