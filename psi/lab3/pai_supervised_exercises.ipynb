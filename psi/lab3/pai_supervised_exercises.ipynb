{
 "cells": [
  {
   "cell_type": "markdown",
   "metadata": {
    "id": "RpPbAyOVQmZ1"
   },
   "source": [
    "# **Podstawy Sztucznej Inteligencji**\n",
    "\n",
    "## Uczenie Nadzorowane"
   ]
  },
  {
   "cell_type": "markdown",
   "metadata": {
    "id": "_JpijXn0Susu"
   },
   "source": [
    "## Wprowadzenie"
   ]
  },
  {
   "cell_type": "markdown",
   "metadata": {
    "id": "QGvtnFTd1Nmi"
   },
   "source": [
    "### Część 1: pytania powtórkowe\n",
    "Spróbuj odpowiedzieć na poniższe pytania. \n",
    "\n",
    "**Nie musisz dołączać rozwiązań do sprawozdania.**\n",
    "\n",
    "Jeśli któraś z tych kwestii jest niejasna, zanim przejdziesz dalej spróbuj przypomnieć sobie, o co chodziło. \n",
    "\n",
    "Zawsze możesz sięgnąć [tutaj](https://www.kdnuggets.com/2020/03/24-best-free-books-understand-machine-learning.html) lub umówić się na konsultacje.\n",
    "\n",
    "1. Czym różnią się uczenie nadzorowane, uczenie nienadzorowane i uczenie ze wzmocnieniem?\n",
    "Nadzorowane - mamy jakieś wyjście pod które optymalizujemy model\n",
    "Nienadzorowane - mamy tylko dane bez wyjść/klasyfikacji\n",
    "Ze wzmocnieniem - mamy model, który uczy się wykonywać zadania - jest zbiór wartości wyjściowych, ale nie jest powiedziane, które jest najlepsze\n",
    "2. Czym różni się regresja od klasyfikacji?\n",
    "Regresja - zbiór ciągły wartości wyjściowych, klasyfikacja - przeliczalny, dyskretny zbiór wyjść\n",
    "3. Co to jest regresja liniowa, drzewo decyzyjne i sieć neuronowa?\n",
    "Algorytmy uczenia maszynowego (nadzorowanego)\n",
    "4. Czym jest zbiór testowy a czym zbiór uczący?\n",
    "Na zbiorze uczącym trenujemy model, a na zbiorze testowym (dane z tego zbioru nie były wykorzystywane do uczenia) sprawdza się jaka jest faktyczna skuteczność modelu\n",
    "5. Na czym polega *overfitting* a na czym *underfitting*?\n",
    "Overfiting - model uczy się danych na pamięć, słabo generalizuje, Underfitting - model za bardzo generalizuje, nie wyłapuje wzorców w danych\n",
    "6. Jak radzić sobie z *overfittingiem* w przypadku regresji liniowej, drzew decyzyjnych i sieci neuronowych?\n",
    "Można ściągnąć/dorobić więcej danych lub uprościć model\n",
    "7. Czym jest Eksploracyjna Analiza Danych (EDA) i po co się ją wykonuje?\n",
    "Jest to badanie danych pod kątem czy istnieją w danych zależności powiązane z tym co chcemy osiągnąć. Jest to ważne ponieważ model bez EDA może nauczyć wzorców w szumach lub nieprzydatnych co sprawi, że na produkcji nie będzie działał\n",
    "8. Czym jest *outlier*?\n",
    "Są to wartości odstające, takich których raczej się nie spodziewamy\n",
    "9. Jakie metryki można stosować do mierzenia skuteczności działania modelu i jaka jest ich interpretacja?\n",
    "Mean Squared/Absolute Error, binary/categorical cross entropy - jest to wartość o jaką pomylił się model w przewidywaniu\n",
    "10. Czym jest walidacja krzyżowa?\n",
    "Wykorzystanie test setu do sprawdzenia jak dobrze radzi sobie model (nie tylko na train set)"
   ]
  },
  {
   "cell_type": "markdown",
   "metadata": {
    "id": "yqsx96Bw7JZm"
   },
   "source": [
    "### Część 2: Jupyter Notebook\n",
    "\n",
    "Jupyter Notebook to aplikacja open-source, która pozwala na tworzenie dokumentów zawierających kod, wykresy, równania, tekst, itp.\n",
    "\n",
    "Cała filozofia opiera się na tym, że piszemy w komórkach, które możemy swobodnie i niezależnie od siebie edytować i uruchamiać.\n",
    "\n",
    "Dodatkowo, komórki mogą być interaktywne.\n",
    "\n",
    "Jupyter Notebooki pozwalają na uruchamianie kodu Python, Julia, R, itp.\n",
    "\n",
    "Aplikacja jest wykorzystywana bardzo często w przypadku analizy danych, modelowania statystycznego, wizualizacji, Sztucznej Inteligencji.\n",
    "\n",
    "Więcej możesz dowiedzieć się [tutaj](https://jupyter.org/) i [tutaj](https://www.anaconda.com/)."
   ]
  },
  {
   "cell_type": "markdown",
   "metadata": {
    "id": "vbaXjDvzREA5"
   },
   "source": [
    "---\n",
    "Poniżej znajdują się przykłady komórek z prostym kodem."
   ]
  },
  {
   "cell_type": "code",
   "execution_count": 1,
   "metadata": {
    "colab": {
     "base_uri": "https://localhost:8080/"
    },
    "id": "yg__G8O7H8IB",
    "outputId": "591dfb5d-dd7c-4230-ec37-ae0bfa04bb37"
   },
   "outputs": [
    {
     "name": "stdout",
     "output_type": "stream",
     "text": [
      "Hello!\n"
     ]
    }
   ],
   "source": [
    "print(\"Hello!\") # po kliknięciu na komórkę i wciśnięciu kombinacji Ctrl+Enter kod uruchamia się (alternatywnie można użyć przycisku \"Play\" z lewej strony komórki)"
   ]
  },
  {
   "cell_type": "code",
   "execution_count": 2,
   "metadata": {
    "colab": {
     "base_uri": "https://localhost:8080/"
    },
    "id": "hjTYHiTnI94J",
    "outputId": "b67cf8bd-d6da-4b66-e357-d994dfb9c347"
   },
   "outputs": [
    {
     "data": {
      "text/plain": [
       "3"
      ]
     },
     "execution_count": 2,
     "metadata": {},
     "output_type": "execute_result"
    }
   ],
   "source": [
    "first_var = 3\n",
    "first_var"
   ]
  },
  {
   "cell_type": "code",
   "execution_count": 3,
   "metadata": {
    "colab": {
     "base_uri": "https://localhost:8080/"
    },
    "id": "Y--VWJOVIaP3",
    "outputId": "a82270c5-b358-4031-c10e-d377346dc37e"
   },
   "outputs": [
    {
     "data": {
      "text/plain": [
       "[0, 1, 2, 3, 4, 5, 6, 7, 8, 9]"
      ]
     },
     "execution_count": 3,
     "metadata": {},
     "output_type": "execute_result"
    }
   ],
   "source": [
    "my_list = [x for x in range(10)]\n",
    "my_list"
   ]
  },
  {
   "cell_type": "code",
   "execution_count": 4,
   "metadata": {
    "id": "vsbmhyqNIs_e"
   },
   "outputs": [],
   "source": [
    "my_list += [3, 2, 1]"
   ]
  },
  {
   "cell_type": "code",
   "execution_count": 5,
   "metadata": {
    "colab": {
     "base_uri": "https://localhost:8080/"
    },
    "id": "TnBahiV6IyV3",
    "outputId": "48db28b6-064d-470a-c421-158020d54633"
   },
   "outputs": [
    {
     "data": {
      "text/plain": [
       "[0, 1, 2, 3, 4, 5, 6, 7, 8, 9, 3, 2, 1]"
      ]
     },
     "execution_count": 5,
     "metadata": {},
     "output_type": "execute_result"
    }
   ],
   "source": [
    "my_list"
   ]
  },
  {
   "cell_type": "markdown",
   "metadata": {
    "id": "ktTGUfrgJPEm"
   },
   "source": [
    "---\n",
    "\n",
    "Miejsce poniżej jest dla Ciebie - rozruszajmy kości, spróbuj napisać prosty program w Pythonie.\n",
    "\n",
    "Przykładowe zadanie: napisz program, który zwraca tablicę NxN wypełnioną kolejnymi liczbami ciągu Fibonacciego (rekurencja) po spirali.\n",
    "\n",
    "Możesz użyć tyle komórek, ile potrzebujesz. Przedstaw swój kod jak najczytelniej.\n",
    "\n",
    "---\n"
   ]
  },
  {
   "cell_type": "code",
   "execution_count": 6,
   "metadata": {
    "id": "8x_uXMNwJOcN"
   },
   "outputs": [],
   "source": [
    "# spróbuj rozwiązać zadanie"
   ]
  },
  {
   "cell_type": "markdown",
   "metadata": {
    "id": "ns3T8p75Jm8F"
   },
   "source": [
    "---\n",
    "\n",
    "Miejsce poniżej jest dla Ciebie - spróbuj *opowiedzieć*, co zrobiłeś/łaś.\n",
    "\n",
    "Możesz wykorzystać elementy graficzne, tekst, linki, tabele, itp.\n",
    "\n",
    "---\n",
    "\n",
    "\n",
    "\n"
   ]
  },
  {
   "cell_type": "markdown",
   "metadata": {
    "id": "Ymuz4VvOJmm3"
   },
   "source": [
    "`edytuj tę komórkę`"
   ]
  },
  {
   "cell_type": "markdown",
   "metadata": {
    "id": "gVFZ4NMXLGJi"
   },
   "source": [
    "---\n",
    "\n",
    "Co jeszcze można zrobić przy pomocy Jupyter Notebooków? \n",
    "\n",
    "Popatrz [tutaj](https://towardsdatascience.com/bringing-the-best-out-of-jupyter-notebooks-for-data-science-f0871519ca29)."
   ]
  },
  {
   "cell_type": "markdown",
   "metadata": {
    "id": "FEB4UF4_ONIc"
   },
   "source": [
    "**Nie musisz dołączać rozwiązań do sprawozdania.**"
   ]
  },
  {
   "cell_type": "markdown",
   "metadata": {
    "id": "XTGk0oygAPy8"
   },
   "source": [
    "### Część 3: Google Colab(oratory)\n",
    "\n",
    "Jupyter Notebooki można uruchamiać [lokalnie](https://jupyter-notebook.readthedocs.io/en/stable/public_server.html#running-a-notebook-server), [zdalnie dla jednego użytkownika](https://jupyter-notebook.readthedocs.io/en/stable/public_server.html), [dla wielu](https://jupyter-notebook.readthedocs.io/en/stable/public_server.html#running-a-public-notebook-server).\n",
    "\n",
    "Szczególnie polecam tutaj rozdziały o bezpieczeństwie!\n",
    "\n",
    "Z Jupyter Notebooków można skorzystać także w ramach rozwiązań chmurowych, np. AWS, Azure, Google Cloud.\n",
    "\n",
    "Właśnie tak działa Google Colab, na którym pracujemy w ramach laboratorium.\n",
    "\n",
    "Nic nie stoi na przeszkodzie, żeby pobrać notatnik i uruchomić go u siebie z wykorzystaniem zasobów własnego komputera.\n",
    "\n",
    "Porównanie różnych serwisów dostępne jest [tutaj](https://www.dataschool.io/cloud-services-for-jupyter-notebook/). Niestety jest już trochę stare (ponad rok) i kilka informacji jest nieaktualnych.\n",
    "\n",
    "Przy okazji - 100$ w ramach [Azure](https://www.eaiib.agh.edu.pl/azure-elms/) dla studentów AGH.\n",
    "\n",
    "Zawsze można też wykorzystać [Dockera](https://hub.docker.com/r/jupyter/datascience-notebook/)."
   ]
  },
  {
   "cell_type": "markdown",
   "metadata": {
    "id": "dPfw5XP5Qc9x"
   },
   "source": [
    "---\n",
    "Jedna z głównych różnic względem pracy lokalnej: jak ładować pliki do Google Colab?"
   ]
  },
  {
   "cell_type": "code",
   "execution_count": null,
   "metadata": {
    "colab": {
     "base_uri": "https://localhost:8080/",
     "height": 44,
     "resources": {
      "http://localhost:8080/nbextensions/google.colab/files.js": {
       "data": "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",
       "headers": [
        [
         "content-type",
         "application/javascript"
        ]
       ],
       "ok": true,
       "status": 200,
       "status_text": "OK"
      }
     }
    },
    "id": "d0F6RSrG9vTO",
    "outputId": "0d950e7b-f056-4625-fe3d-9d527a210d92"
   },
   "outputs": [
    {
     "data": {
      "text/html": [
       "\n",
       "     <input type=\"file\" id=\"files-1f043460-39cf-4f4f-9e1c-3d2656495b8b\" name=\"files[]\" multiple disabled\n",
       "        style=\"border:none\" />\n",
       "     <output id=\"result-1f043460-39cf-4f4f-9e1c-3d2656495b8b\">\n",
       "      Upload widget is only available when the cell has been executed in the\n",
       "      current browser session. Please rerun this cell to enable.\n",
       "      </output>\n",
       "      <script src=\"/nbextensions/google.colab/files.js\"></script> "
      ],
      "text/plain": [
       "<IPython.core.display.HTML object>"
      ]
     },
     "metadata": {
      "tags": []
     },
     "output_type": "display_data"
    }
   ],
   "source": [
    "from google.colab import files\n",
    "\n",
    "uploaded = files.upload() # po uruchomieniu komórki pojawi się przycisk pozwalający wrzucić pliki"
   ]
  },
  {
   "cell_type": "markdown",
   "metadata": {
    "id": "EH1g11FUSQnH"
   },
   "source": [
    "Więcej o tym problemie [tutaj](https://colab.research.google.com/notebooks/io.ipynb).\n",
    "\n",
    "Po lewej stronie Notebooka są też fragmenty kodu (snippety).\n"
   ]
  },
  {
   "cell_type": "markdown",
   "metadata": {
    "id": "YPJwiaadS-_z"
   },
   "source": [
    "## Rozwinięcie"
   ]
  },
  {
   "cell_type": "markdown",
   "metadata": {
    "id": "1aBc4eKgnHzA"
   },
   "source": [
    "Wszystkie dane dostępne są [tutaj](https://drive.google.com/drive/folders/1xPxoMRhm8KZxODB1tCGK6uzdIpBmTr_u?usp=sharing)."
   ]
  },
  {
   "cell_type": "markdown",
   "metadata": {
    "id": "qHm8Zumi7nFQ"
   },
   "source": [
    "### Część 4: (Uproszczona) Eksploarcyjna Analiza Danych"
   ]
  },
  {
   "cell_type": "markdown",
   "metadata": {
    "id": "raEOTIU8UeTY"
   },
   "source": [
    "Przykładowa EDA dostępna [tutaj](https://colab.research.google.com/drive/1M-f9Ge8YN6IQqEGUOn2RT6hjKRILRQri?usp=sharing). \n",
    "\n",
    "Na końcu jest też link, który wyjaśnia dużo więcej."
   ]
  },
  {
   "cell_type": "markdown",
   "metadata": {
    "id": "4d0TanKNfjLw"
   },
   "source": [
    "Do pierwszej części wykorzystamy <ins>swimming dataset</ins>.\n",
    "\n",
    "Otwórz go używając notatnika (lub lepiej: VS Code, Sublime, itp.) a potem skorzystaj z programu do obsługi akrkuszy kalulacyjnych (Excel, Google Spreadsheets, LibreOffice Calc, itp.).\n",
    "\n",
    "Następnie wczytaj plik jak pokazano wyżej do Google Colab."
   ]
  },
  {
   "cell_type": "code",
   "execution_count": 7,
   "metadata": {
    "id": "U2jQFEOXg9hv"
   },
   "outputs": [],
   "source": [
    "import os\n",
    "import pandas as pd"
   ]
  },
  {
   "cell_type": "markdown",
   "metadata": {
    "id": "nXkHwup6g-DS"
   },
   "source": [
    "Posiłkując się przedstawionym [przykładem](https://colab.research.google.com/drive/1M-f9Ge8YN6IQqEGUOn2RT6hjKRILRQri?usp=sharing) odpowiedz na pytania.\n",
    "\n",
    "1. Jaki jest rozmiar zbioru danych?\n",
    "2. Ile atrybutów występuje w zbiorze danych? [Odsyłam tutaj - strona 2](http://wazniak.mimuw.edu.pl/images/5/5f/ED-4.2-m07-1.0.pdf).\n",
    "3. Ile jest instancji pozytywnych `(enjoy==yes)` a ile negatywnych? \n",
    "4. Który z atrybutów najlepiej rozdziela dane? \n",
    "5. Ile elementów ze zbioru danych ma atrybut wilgotność ustawiony jako wysoki `(humidity==high)`? Jakie mają numery?\n",
    "\n",
    "**Odpowiedzi zamieść w sprawozdaniu.**"
   ]
  },
  {
   "cell_type": "code",
   "execution_count": 8,
   "metadata": {
    "id": "WuN0OKmbUX40"
   },
   "outputs": [
    {
     "name": "stdout",
     "output_type": "stream",
     "text": [
      "rozmiar datasetu (6, 7)\n",
      "rozmiar na dysku: 272 bytes\n",
      "liczba atrybutów: 7\n",
      "liczba atrybutów pozytywnych: 4\n",
      "najlepiej rozdziela dane: sky, maksymalny rozmiar podzbioru 3\n",
      "liczba elementow z high humidity 4 indexy to Int64Index([1, 2, 3, 5], dtype='int64')\n"
     ]
    }
   ],
   "source": [
    "data = pd.read_csv('swimming.csv')\n",
    "print(f'rozmiar datasetu {data.shape}')\n",
    "print(f'rozmiar na dysku: {os.path.getsize(\"./swimming.csv\")} bytes')\n",
    "print(f'liczba atrybutów: {len(data.columns)}')\n",
    "print(f'liczba atrybutów pozytywnych: {data[data.enjoy==\"yes\"].enjoy.count()}')\n",
    "best = ('name', data.shape[1])\n",
    "for i in range(len(data.columns)):\n",
    "    col=data.columns[i]\n",
    "    prev_col = data.columns[i-1]\n",
    "    max_count=(data.groupby(col).count())[prev_col].max()\n",
    "    if max_count < best[1]:\n",
    "        best = (col,max_count)\n",
    "print(f'najlepiej rozdziela dane: {best[0]}, maksymalny rozmiar podzbioru {best[1]}')\n",
    "print(f'liczba elementow z high humidity {data[data.humidity==\"high\"].humidity.count()} indexy to {data[data.humidity==\"high\"].index}')"
   ]
  },
  {
   "cell_type": "markdown",
   "metadata": {
    "id": "nUfM49Zm7nMn"
   },
   "source": [
    "### Część 5: Regresja Liniowa\n"
   ]
  },
  {
   "cell_type": "markdown",
   "metadata": {
    "id": "MoiKe59MmtxZ"
   },
   "source": [
    "O regresji: [1](https://towardsdatascience.com/a-brief-introduction-to-supervised-learning-54a3e3932590), [2](https://realpython.com/linear-regression-in-python/), [3](https://towardsdatascience.com/simple-and-multiple-linear-regression-in-python-c928425168f9).\n",
    "\n",
    "Wykorzystaj je, by rozwiązać dalsze zadania."
   ]
  },
  {
   "cell_type": "markdown",
   "metadata": {
    "id": "rFG4_r5QoVO3"
   },
   "source": [
    "Załaduj zbiory danych <ins>cpu</ins> i <ins>spu-vendor</ins> wykorzystując moduł `pandas` i funkcję `read_csv`.\n",
    "\n",
    "Uwaga! Wykorzystaj [to_numpy()](https://pandas.pydata.org/pandas-docs/stable/reference/api/pandas.DataFrame.to_numpy.html#pandas.DataFrame.to_numpy) lub [values](https://pandas.pydata.org/pandas-docs/stable/reference/api/pandas.DataFrame.values.html).\n",
    "\n",
    "Dla zainteresowanych - dane pochodzą z: <br>\n",
    "Kilpatrick, D. A., & Cameron-Jones, R. M. (1998). Numeric prediction using instance-based learning with encoding length selection. <br> \n",
    "W: *1997 International Conference on Neural Information Processing and Intelligent Information Systems* (Vol. 1, pp. 984-987)."
   ]
  },
  {
   "cell_type": "code",
   "execution_count": 9,
   "metadata": {
    "id": "QLPFfGNiUYYl"
   },
   "outputs": [],
   "source": [
    "cpu = pd.read_csv('cpu.csv')\n",
    "vendor = pd.read_csv('cpu-vendor.csv')"
   ]
  },
  {
   "cell_type": "markdown",
   "metadata": {
    "id": "TZnPAlmXpMrB"
   },
   "source": [
    "1. Co oznaczają wszystkie atrybuty? Sięgnij [tutaj](https://archive.ics.uci.edu/ml/datasets/Computer+Hardware). Uwaga! `class` $\\equiv$ `PRP`.\n",
    "2. Czym te zbiory danych się różnią?\n",
    "3. Jakiego typu jest seria danych `vendor` a jakiego `class`? Sprawdź wykorzystując `dtype`.\n",
    "4. String nie może być wykorzystany przy regresji liniowej, ale możemy wykorzystać fakt, że tak naprawdę `vendor` opisuje kategorie. Wykorzystaj polecenie `df['vendor'] = pd.get_dummies(df['vendor'])`. Co się stało?\n",
    "5. Na obydwu zbiorach danych uruchom LinearRegression: `model = LinearRegression(), model.fit(), model.score()` z odpowiednimi parametrami. Możesz spróbować różnych zestawów parametrów. Twoim zadaniem jest przewidzieć `class`. <br> Jakie są różnice w skuteczności działania modeli? Jaka jest złożoność matematyczna modeli?\n",
    "6. Jak wyglądają współczynniki równania regresji? Sprawdź wykorzystując `model.coef_` i `model.intercept_`. Co one oznaczają?\n",
    "7. Jaka będzie wartość `class` w zależności od dowolnych wprowadzonych przez użytkownika danych? Spróbuj przewidzieć wartości dla kilku przykładów. Jak to zrobić? [Sięgnij tutaj](https://gist.github.com/a-i-dan/413f779292788cb3a7106a5a7efde938/) lub wykorzystaj funkcję `model.predict()`.\n",
    "\n",
    "Podpowiedź do punktu 4:\n",
    "`df = pd.concat([pd.get_dummies(df['vendor']), df.drop('vendor', axis=1)], axis=1)` <br> pozwoli na utworzenie ramki danych, którą model jest w stanie przyjąć.\n",
    "\n",
    "**Odpowiedzi zamieść w sprawozdaniu (6 i 7 nie jest wymagane).**"
   ]
  },
  {
   "cell_type": "code",
   "execution_count": 24,
   "metadata": {
    "id": "C8JrAwUaKmWW"
   },
   "outputs": [
    {
     "name": "stdout",
     "output_type": "stream",
     "text": [
      "Dokładność przewidywań na cpu 0.8372046007971935\n",
      "Dokładność przewidywań na vendor 0.8617804246831953\n"
     ]
    }
   ],
   "source": [
    "from sklearn.linear_model import LinearRegression\n",
    "from sklearn.model_selection import train_test_split\n",
    "import pandas as pd\n",
    "cpu = pd.read_csv('cpu.csv')\n",
    "vendor = pd.read_csv('cpu-vendor.csv')\n",
    "cpu_train, cpu_test, cpu_class_train, cpu_class_test = train_test_split(\n",
    "    cpu.drop(columns=['class']).values,cpu['class'].values)\n",
    "vendor_train, vendor_test, vendor_class_train, vendor_class_test = train_test_split(\n",
    "    vendor.drop(columns=['class','vendor']).values,vendor['class'].values)\n",
    "cpu_reg = LinearRegression()\n",
    "vendor_reg = LinearRegression()\n",
    "cpu_reg.fit(cpu_train,cpu_class_train)\n",
    "vendor_reg.fit(vendor_train,vendor_class_train)\n",
    "print(f'Dokładność przewidywań na cpu {cpu_reg.score(cpu_test,cpu_class_test)}')\n",
    "print(f'Dokładność przewidywań na vendor {vendor_reg.score(vendor_test,vendor_class_test)}')"
   ]
  },
  {
   "cell_type": "markdown",
   "metadata": {
    "id": "bZv4ESou7nUR"
   },
   "source": [
    "### Część 6: Drzewa Decyzyjne"
   ]
  },
  {
   "cell_type": "markdown",
   "metadata": {
    "id": "WMDmd_Ki1usY"
   },
   "source": [
    "O drzewach decyzyjnych: [1](https://towardsdatascience.com/machine-learning-basics-descision-tree-from-scratch-part-i-4251bfa1b45c), [2](https://towardsdatascience.com/the-complete-guide-to-decision-trees-28a4e3c7be14), [3](https://dinhanhthi.com/decision-tree-classifier)."
   ]
  },
  {
   "cell_type": "markdown",
   "metadata": {
    "id": "3xlnsggf2Vw2"
   },
   "source": [
    "1. Jaka jest główna różnica między ID3 A CART?\n",
    "2. Czym jest `gini` a czym `entropy`? "
   ]
  },
  {
   "cell_type": "markdown",
   "metadata": {
    "id": "2ozzzfr-4V6P"
   },
   "source": [
    "Wykorzystując <ins>swimming dataset</ins>, odpowiedz na poniższe pytania.\n",
    "\n",
    "1. Spróbuj na kartce narysować drzewo decyzyjne dla tego zbioru danych. Przewidujemy czy dane warunki będą się podobać - `enjoy`.\n",
    "2. Uzupełnij poniższy kod i sprawdź, czy wyrysowane drzewo jest zgodne z Twoim z kartki.\n",
    "3. Jakie są wartości `gini` i `entropy`, co to znaczy?\n",
    "4. Czy wygenerowane drzewa czymś się różnią?\n",
    "5. Ogranicz liczbę cech - wyrzuć np. airTemp - jak to wpływa na model?\n",
    "\n",
    "**Odpowiedzi zamieść w sprawozdaniu.**"
   ]
  },
  {
   "cell_type": "code",
   "execution_count": null,
   "metadata": {
    "id": "Ph0yl39GUYzO"
   },
   "outputs": [],
   "source": [
    "swimming = "
   ]
  },
  {
   "cell_type": "code",
   "execution_count": null,
   "metadata": {
    "id": "6E5JPwIR_kBV"
   },
   "outputs": [],
   "source": [
    "from sklearn import tree\n",
    "\n",
    "clf_entropy = # uzupełnij\n",
    "clf_gini = # uzupełnij"
   ]
  },
  {
   "cell_type": "code",
   "execution_count": null,
   "metadata": {
    "colab": {
     "base_uri": "https://localhost:8080/",
     "height": 206
    },
    "id": "kPZf-EGa4STZ",
    "outputId": "e96ec338-387f-428a-90aa-4154a07cd2f6"
   },
   "outputs": [
    {
     "data": {
      "text/html": [
       "<div>\n",
       "<style scoped>\n",
       "    .dataframe tbody tr th:only-of-type {\n",
       "        vertical-align: middle;\n",
       "    }\n",
       "\n",
       "    .dataframe tbody tr th {\n",
       "        vertical-align: top;\n",
       "    }\n",
       "\n",
       "    .dataframe thead th {\n",
       "        text-align: right;\n",
       "    }\n",
       "</style>\n",
       "<table border=\"1\" class=\"dataframe\">\n",
       "  <thead>\n",
       "    <tr style=\"text-align: right;\">\n",
       "      <th></th>\n",
       "      <th>sky</th>\n",
       "      <th>airTemp</th>\n",
       "      <th>humidity</th>\n",
       "      <th>wind</th>\n",
       "      <th>water</th>\n",
       "      <th>forecast</th>\n",
       "      <th>enjoy</th>\n",
       "    </tr>\n",
       "  </thead>\n",
       "  <tbody>\n",
       "    <tr>\n",
       "      <th>0</th>\n",
       "      <td>sunny</td>\n",
       "      <td>warm</td>\n",
       "      <td>normal</td>\n",
       "      <td>strong</td>\n",
       "      <td>warm</td>\n",
       "      <td>same</td>\n",
       "      <td>yes</td>\n",
       "    </tr>\n",
       "    <tr>\n",
       "      <th>1</th>\n",
       "      <td>sunny</td>\n",
       "      <td>warm</td>\n",
       "      <td>high</td>\n",
       "      <td>strong</td>\n",
       "      <td>warm</td>\n",
       "      <td>same</td>\n",
       "      <td>yes</td>\n",
       "    </tr>\n",
       "    <tr>\n",
       "      <th>2</th>\n",
       "      <td>rainy</td>\n",
       "      <td>cold</td>\n",
       "      <td>high</td>\n",
       "      <td>strong</td>\n",
       "      <td>warm</td>\n",
       "      <td>change</td>\n",
       "      <td>no</td>\n",
       "    </tr>\n",
       "    <tr>\n",
       "      <th>3</th>\n",
       "      <td>sunny</td>\n",
       "      <td>warm</td>\n",
       "      <td>high</td>\n",
       "      <td>strong</td>\n",
       "      <td>cool</td>\n",
       "      <td>change</td>\n",
       "      <td>yes</td>\n",
       "    </tr>\n",
       "    <tr>\n",
       "      <th>4</th>\n",
       "      <td>cloudy</td>\n",
       "      <td>warm</td>\n",
       "      <td>normal</td>\n",
       "      <td>weak</td>\n",
       "      <td>warm</td>\n",
       "      <td>same</td>\n",
       "      <td>yes</td>\n",
       "    </tr>\n",
       "  </tbody>\n",
       "</table>\n",
       "</div>"
      ],
      "text/plain": [
       "      sky airTemp humidity    wind water forecast enjoy\n",
       "0   sunny    warm   normal  strong  warm     same   yes\n",
       "1   sunny    warm     high  strong  warm     same   yes\n",
       "2   rainy    cold     high  strong  warm   change    no\n",
       "3   sunny    warm     high  strong  cool   change   yes\n",
       "4  cloudy    warm   normal    weak  warm     same   yes"
      ]
     },
     "execution_count": 154,
     "metadata": {
      "tags": []
     },
     "output_type": "execute_result"
    }
   ],
   "source": [
    "# pokaż zbiór danych"
   ]
  },
  {
   "cell_type": "code",
   "execution_count": null,
   "metadata": {
    "id": "udcI1ACO4ctb"
   },
   "outputs": [],
   "source": [
    "x = pd.get_dummies(df.drop('enjoy', axis=1))\n",
    "y = # uzupełnij\n",
    "\n",
    "clf = # uzupełnij"
   ]
  },
  {
   "cell_type": "code",
   "execution_count": null,
   "metadata": {
    "colab": {
     "base_uri": "https://localhost:8080/",
     "height": 238
    },
    "id": "Cb4V4_ATC1r0",
    "outputId": "46af9374-5ac2-4b3f-f36d-0ea0359e7657"
   },
   "outputs": [
    {
     "data": {
      "text/html": [
       "<div>\n",
       "<style scoped>\n",
       "    .dataframe tbody tr th:only-of-type {\n",
       "        vertical-align: middle;\n",
       "    }\n",
       "\n",
       "    .dataframe tbody tr th {\n",
       "        vertical-align: top;\n",
       "    }\n",
       "\n",
       "    .dataframe thead th {\n",
       "        text-align: right;\n",
       "    }\n",
       "</style>\n",
       "<table border=\"1\" class=\"dataframe\">\n",
       "  <thead>\n",
       "    <tr style=\"text-align: right;\">\n",
       "      <th></th>\n",
       "      <th>sky_cloudy</th>\n",
       "      <th>sky_rainy</th>\n",
       "      <th>sky_sunny</th>\n",
       "      <th>airTemp_cold</th>\n",
       "      <th>airTemp_warm</th>\n",
       "      <th>humidity_high</th>\n",
       "      <th>humidity_normal</th>\n",
       "      <th>wind_strong</th>\n",
       "      <th>wind_weak</th>\n",
       "      <th>water_cool</th>\n",
       "      <th>water_warm</th>\n",
       "      <th>forecast_change</th>\n",
       "      <th>forecast_same</th>\n",
       "    </tr>\n",
       "  </thead>\n",
       "  <tbody>\n",
       "    <tr>\n",
       "      <th>0</th>\n",
       "      <td>0</td>\n",
       "      <td>0</td>\n",
       "      <td>1</td>\n",
       "      <td>0</td>\n",
       "      <td>1</td>\n",
       "      <td>0</td>\n",
       "      <td>1</td>\n",
       "      <td>1</td>\n",
       "      <td>0</td>\n",
       "      <td>0</td>\n",
       "      <td>1</td>\n",
       "      <td>0</td>\n",
       "      <td>1</td>\n",
       "    </tr>\n",
       "    <tr>\n",
       "      <th>1</th>\n",
       "      <td>0</td>\n",
       "      <td>0</td>\n",
       "      <td>1</td>\n",
       "      <td>0</td>\n",
       "      <td>1</td>\n",
       "      <td>1</td>\n",
       "      <td>0</td>\n",
       "      <td>1</td>\n",
       "      <td>0</td>\n",
       "      <td>0</td>\n",
       "      <td>1</td>\n",
       "      <td>0</td>\n",
       "      <td>1</td>\n",
       "    </tr>\n",
       "    <tr>\n",
       "      <th>2</th>\n",
       "      <td>0</td>\n",
       "      <td>1</td>\n",
       "      <td>0</td>\n",
       "      <td>1</td>\n",
       "      <td>0</td>\n",
       "      <td>1</td>\n",
       "      <td>0</td>\n",
       "      <td>1</td>\n",
       "      <td>0</td>\n",
       "      <td>0</td>\n",
       "      <td>1</td>\n",
       "      <td>1</td>\n",
       "      <td>0</td>\n",
       "    </tr>\n",
       "    <tr>\n",
       "      <th>3</th>\n",
       "      <td>0</td>\n",
       "      <td>0</td>\n",
       "      <td>1</td>\n",
       "      <td>0</td>\n",
       "      <td>1</td>\n",
       "      <td>1</td>\n",
       "      <td>0</td>\n",
       "      <td>1</td>\n",
       "      <td>0</td>\n",
       "      <td>1</td>\n",
       "      <td>0</td>\n",
       "      <td>1</td>\n",
       "      <td>0</td>\n",
       "    </tr>\n",
       "    <tr>\n",
       "      <th>4</th>\n",
       "      <td>1</td>\n",
       "      <td>0</td>\n",
       "      <td>0</td>\n",
       "      <td>0</td>\n",
       "      <td>1</td>\n",
       "      <td>0</td>\n",
       "      <td>1</td>\n",
       "      <td>0</td>\n",
       "      <td>1</td>\n",
       "      <td>0</td>\n",
       "      <td>1</td>\n",
       "      <td>0</td>\n",
       "      <td>1</td>\n",
       "    </tr>\n",
       "    <tr>\n",
       "      <th>5</th>\n",
       "      <td>1</td>\n",
       "      <td>0</td>\n",
       "      <td>0</td>\n",
       "      <td>1</td>\n",
       "      <td>0</td>\n",
       "      <td>1</td>\n",
       "      <td>0</td>\n",
       "      <td>0</td>\n",
       "      <td>1</td>\n",
       "      <td>1</td>\n",
       "      <td>0</td>\n",
       "      <td>0</td>\n",
       "      <td>1</td>\n",
       "    </tr>\n",
       "  </tbody>\n",
       "</table>\n",
       "</div>"
      ],
      "text/plain": [
       "   sky_cloudy  sky_rainy  sky_sunny  ...  water_warm  forecast_change  forecast_same\n",
       "0           0          0          1  ...           1                0              1\n",
       "1           0          0          1  ...           1                0              1\n",
       "2           0          1          0  ...           1                1              0\n",
       "3           0          0          1  ...           0                1              0\n",
       "4           1          0          0  ...           1                0              1\n",
       "5           1          0          0  ...           0                0              1\n",
       "\n",
       "[6 rows x 13 columns]"
      ]
     },
     "execution_count": 157,
     "metadata": {
      "tags": []
     },
     "output_type": "execute_result"
    }
   ],
   "source": [
    "pd.get_dummies(df.drop('enjoy', axis=1)) # co tu się dzieje?"
   ]
  },
  {
   "cell_type": "code",
   "execution_count": null,
   "metadata": {
    "id": "DlkCZIFS6kou"
   },
   "outputs": [],
   "source": [
    "# wykorzystując poniższy kod zwizualizuj oba uzyskane drzewa\n",
    "\n",
    "from IPython.display import Image\n",
    "import pydotplus\n",
    "\n",
    "columns = pd.get_dummies(df.drop('enjoy', axis=1)).columns\n",
    "\n",
    "dot_data = tree.export_graphviz(clf, out_file=None, rounded=True, filled=True, feature_names=columns)\n",
    "graph = pydotplus.graph_from_dot_data(dot_data)\n",
    "Image(graph.create_png())"
   ]
  },
  {
   "cell_type": "markdown",
   "metadata": {
    "id": "mgN_Ffh6yVgj"
   },
   "source": [
    "1. Co oznaczają kolejne linijki w \"komórkach\" drzewa? \"X <= R\", \"gini/entropy = Y\", \"samples = Z\", \"value = V\"?\n",
    "2. Wykorzystaj `model.predict()`, żeby przewidzieć `enjoy` dla kilku instancji danych. Zaproponuj też własne przykłady!"
   ]
  },
  {
   "cell_type": "code",
   "execution_count": null,
   "metadata": {
    "id": "lRxjX0MgG1k7"
   },
   "outputs": [],
   "source": [
    "# przewidywanie"
   ]
  },
  {
   "cell_type": "markdown",
   "metadata": {
    "id": "qjWOKxbWGwEC"
   },
   "source": [
    "Wykorzystując powyższy przykład wygeneruj drzewo dla zbioru danych <ins>iris</ins>. Przewidujemy nazwę irysa!"
   ]
  },
  {
   "cell_type": "markdown",
   "metadata": {
    "id": "ONxEAgQYHQLR"
   },
   "source": [
    "1. Czy konieczne jest przekodowanie atrybutów (`pd.get_dummies()`)?\n",
    "2. Za co odpowiadają parametry `max_depth`, `min_samples_split`, `min_samples_leaf`?\n",
    "3. Wygeneruj graficzne reprezentacje drzewa dla różnych wartości wymienionych wyżej parametrów.\n",
    "\n",
    "**Odpowiedzi zamieść w sprawozdaniu.**"
   ]
  },
  {
   "cell_type": "code",
   "execution_count": null,
   "metadata": {
    "id": "E6dEMHgwHJS8"
   },
   "outputs": [],
   "source": [
    "# model"
   ]
  },
  {
   "cell_type": "markdown",
   "metadata": {
    "id": "o5-UGUsCHK2P"
   },
   "source": [
    "1. Wykorzystaj `model.predict()`, żeby przewidzieć `enjoy` dla kilku instancji danych. Zaproponuj też własne przykłady!\n",
    "\n",
    "**Nie musisz umieszczać tej części w sprawozdaniu.**"
   ]
  },
  {
   "cell_type": "code",
   "execution_count": null,
   "metadata": {
    "id": "fG9eQ2_4HLLy"
   },
   "outputs": [],
   "source": [
    "# przewidywanie"
   ]
  },
  {
   "cell_type": "markdown",
   "metadata": {
    "id": "HcBOP4MB_95R"
   },
   "source": [
    "### Część 7: Sieci Neuronowe"
   ]
  },
  {
   "cell_type": "markdown",
   "metadata": {
    "id": "L1jV0aSjK5EA"
   },
   "source": [
    "O sieciach: [1](https://towardsdatascience.com/machine-learning-for-beginners-an-introduction-to-neural-networks-d49f22d238f9), [2](https://towardsdatascience.com/first-neural-network-for-beginners-explained-with-code-4cfd37e06eaf).\n",
    "\n",
    "1. Narysuj 3 neurony (kartka, notatnik, cokolwiek). Neurony mają:\n",
    "  *   Dwa wejścia binarne: x<sub>1</sub>, x<sub>2</sub>\n",
    "  *   Wejście dodatkowe - stałą - jak ją inaczej nazywamy?\n",
    "  *   **Wagi - ustal jakie!**\n",
    "  *   Funkcję aktywacji f(x), gdzie $f(x)=1$ dla $\\sum w_i*x_i \\geq 0$ lub $f(x)=0$ dla $\\sum w_i*x_i < 0$.\n",
    "  *   Reprezentować kolejno operacje: $x_1 OR \\ x_2$, $x_1 AND \\ x_2$, $x_1 XOR \\ x_2$. Czy jest to możliwe? [Podpowiedź](https://medium.com/@stanleydukor/neural-representation-of-and-or-not-xor-and-xnor-logic-gates-perceptron-algorithm-b0275375fea1).\n",
    "2. Wykorzystując [wskazane narzędzie](https://playground.tensorflow.org) spróbuj zrozumieć jak działają sieci.\n",
    "  * Wypróbuj różne kombinacje parametrówe wejściowych (cech - features), funkcji aktywacji, itp.\n",
    "  * Nie używaj warstw ukrytych. Dla którego zbioru uczenie nie było skuteczne? Dlaczego?\n",
    "  * Uzyj warstw ukrytych. Ile warstw wystarczy, żeby sieć zadziałała dla każdego przykładu?\n",
    "  * Jakich wzorców uczą się neurony ukryte? Można na nie najechać, żeby to sprawdzić.\n",
    "  * Spróbuj dodać szum. Będzie bardziej jak w rzeczywistości!\n",
    "  * Wyzwanie: spróbuj wytrenować się na spirali z jak najmniejszą liczbą neuronów, warstw i epok!\n",
    "\n",
    "3. Uzupełnij kod zaczynając od załadowania zbioru <ins>diabetes</ins>. Więcej informacji na [Kaggle](https://www.kaggle.com/uciml/pima-indians-diabetes-database).\n",
    "4. Co oznaczają poszczególne atrybuty?\n",
    "5. Co przewidujemy?\n",
    "6. Mamy do czynienia z klasyfikacją czy regresją?\n",
    "\n",
    "Zbiór użyty w:\n",
    "Smith, J. W., Everhart, J. E., Dickson, W. C., Knowler, W. C., & Johannes, R. S. (1988, November). Using the ADAP learning algorithm to forecast the onset of diabetes mellitus. W: *Proceedings of the Annual Symposium on Computer Application in Medical Care* (p. 261). American Medical Informatics Association.\n",
    "\n",
    "**Odpowiedzi zamieść w sprawozdaniu.**\n",
    "\n"
   ]
  },
  {
   "cell_type": "code",
   "execution_count": null,
   "metadata": {
    "id": "oD6xAqS6UZNO"
   },
   "outputs": [],
   "source": [
    "# załaduj plik"
   ]
  },
  {
   "cell_type": "code",
   "execution_count": null,
   "metadata": {
    "colab": {
     "base_uri": "https://localhost:8080/",
     "height": 206
    },
    "id": "Vm0vy1n6Vprl",
    "outputId": "40ccce65-c413-4d46-dfb5-026d723e6f44"
   },
   "outputs": [
    {
     "data": {
      "text/html": [
       "<div>\n",
       "<style scoped>\n",
       "    .dataframe tbody tr th:only-of-type {\n",
       "        vertical-align: middle;\n",
       "    }\n",
       "\n",
       "    .dataframe tbody tr th {\n",
       "        vertical-align: top;\n",
       "    }\n",
       "\n",
       "    .dataframe thead th {\n",
       "        text-align: right;\n",
       "    }\n",
       "</style>\n",
       "<table border=\"1\" class=\"dataframe\">\n",
       "  <thead>\n",
       "    <tr style=\"text-align: right;\">\n",
       "      <th></th>\n",
       "      <th>pregnancies</th>\n",
       "      <th>glucose</th>\n",
       "      <th>blood_pressure</th>\n",
       "      <th>skin_thickness</th>\n",
       "      <th>insulin</th>\n",
       "      <th>bmi</th>\n",
       "      <th>pedigree_function</th>\n",
       "      <th>age</th>\n",
       "      <th>class</th>\n",
       "    </tr>\n",
       "  </thead>\n",
       "  <tbody>\n",
       "    <tr>\n",
       "      <th>0</th>\n",
       "      <td>6</td>\n",
       "      <td>148</td>\n",
       "      <td>72</td>\n",
       "      <td>35</td>\n",
       "      <td>0</td>\n",
       "      <td>33.6</td>\n",
       "      <td>0.627</td>\n",
       "      <td>50</td>\n",
       "      <td>1</td>\n",
       "    </tr>\n",
       "    <tr>\n",
       "      <th>1</th>\n",
       "      <td>1</td>\n",
       "      <td>85</td>\n",
       "      <td>66</td>\n",
       "      <td>29</td>\n",
       "      <td>0</td>\n",
       "      <td>26.6</td>\n",
       "      <td>0.351</td>\n",
       "      <td>31</td>\n",
       "      <td>0</td>\n",
       "    </tr>\n",
       "    <tr>\n",
       "      <th>2</th>\n",
       "      <td>8</td>\n",
       "      <td>183</td>\n",
       "      <td>64</td>\n",
       "      <td>0</td>\n",
       "      <td>0</td>\n",
       "      <td>23.3</td>\n",
       "      <td>0.672</td>\n",
       "      <td>32</td>\n",
       "      <td>1</td>\n",
       "    </tr>\n",
       "    <tr>\n",
       "      <th>3</th>\n",
       "      <td>1</td>\n",
       "      <td>89</td>\n",
       "      <td>66</td>\n",
       "      <td>23</td>\n",
       "      <td>94</td>\n",
       "      <td>28.1</td>\n",
       "      <td>0.167</td>\n",
       "      <td>21</td>\n",
       "      <td>0</td>\n",
       "    </tr>\n",
       "    <tr>\n",
       "      <th>4</th>\n",
       "      <td>0</td>\n",
       "      <td>137</td>\n",
       "      <td>40</td>\n",
       "      <td>35</td>\n",
       "      <td>168</td>\n",
       "      <td>43.1</td>\n",
       "      <td>2.288</td>\n",
       "      <td>33</td>\n",
       "      <td>1</td>\n",
       "    </tr>\n",
       "  </tbody>\n",
       "</table>\n",
       "</div>"
      ],
      "text/plain": [
       "   pregnancies  glucose  blood_pressure  ...  pedigree_function  age  class\n",
       "0            6      148              72  ...              0.627   50      1\n",
       "1            1       85              66  ...              0.351   31      0\n",
       "2            8      183              64  ...              0.672   32      1\n",
       "3            1       89              66  ...              0.167   21      0\n",
       "4            0      137              40  ...              2.288   33      1\n",
       "\n",
       "[5 rows x 9 columns]"
      ]
     },
     "execution_count": 203,
     "metadata": {
      "tags": []
     },
     "output_type": "execute_result"
    }
   ],
   "source": [
    "df = pd.read_csv('diabetes.csv')\n",
    "df.head()"
   ]
  },
  {
   "cell_type": "code",
   "execution_count": null,
   "metadata": {
    "id": "8JpythWrW_Qq"
   },
   "outputs": [],
   "source": [
    "# sprawdź typ kolumn w df"
   ]
  },
  {
   "cell_type": "code",
   "execution_count": null,
   "metadata": {
    "id": "tHGfqNEbXBXJ"
   },
   "outputs": [],
   "source": [
    "# policz, ile jest przypadków, wartości średnie, itp."
   ]
  },
  {
   "cell_type": "code",
   "execution_count": null,
   "metadata": {
    "id": "VeqcoRiJdFha"
   },
   "outputs": [],
   "source": [
    "# wskaż ile jest klas"
   ]
  },
  {
   "cell_type": "code",
   "execution_count": null,
   "metadata": {
    "id": "Rt8KdDz0WrFJ"
   },
   "outputs": [],
   "source": [
    "x = df.drop('class', axis=1).values\n",
    "y = df['class'].to_numpy()"
   ]
  },
  {
   "cell_type": "code",
   "execution_count": null,
   "metadata": {
    "id": "31JZj1ZqW731"
   },
   "outputs": [],
   "source": [
    "# sprawdź typ x i y"
   ]
  },
  {
   "cell_type": "code",
   "execution_count": null,
   "metadata": {
    "id": "nl-l2KZKXpei"
   },
   "outputs": [],
   "source": [
    "from sklearn.model_selection import train_test_split\n",
    "\n",
    "X_train, X_test, y_train, y_test = train_test_split(x, y, test_size=0.25, random_state=0) # co tu się dzieje?"
   ]
  },
  {
   "cell_type": "code",
   "execution_count": null,
   "metadata": {
    "id": "-oQ7P9GSYfnF"
   },
   "outputs": [],
   "source": [
    "### UCZENIE SIECI ###\n",
    "\n",
    "# nie musisz nic zmieniać, po prostu uruchom\n",
    "\n",
    "from keras.models import Sequential\n",
    "from keras.layers import Dense\n",
    "\n",
    "NB_EPOCHS = 1000 \n",
    "BATCH_SIZE = 16\n",
    "\n",
    "model = Sequential()\n",
    "\n",
    "# dodawanie warstw\n",
    "model.add(Dense(12, input_dim=8, activation='relu'))\n",
    "model.add(Dense(8, activation='relu'))\n",
    "model.add(Dense(1, activation='sigmoid' ))\n",
    "\n",
    "model.compile(loss='binary_crossentropy', optimizer='adam', metrics=['accuracy']) # metryki\n",
    "\n",
    "print('Starting training...')\n",
    "\n",
    "history = model.fit(X_train,\n",
    "                    y_train,\n",
    "                    validation_data=(X_test, y_test),\n",
    "                    epochs=NB_EPOCHS,\n",
    "                    batch_size=BATCH_SIZE,\n",
    "                    verbose=1)"
   ]
  },
  {
   "cell_type": "markdown",
   "metadata": {
    "id": "DrsDzZ-HILZi"
   },
   "source": [
    "1. Wykorzystując `model.predict()` i `model.predict_classes()` postaraj się przewidzieć etykiety dla kilku przykładów <br>z wykorzystywanego zbioru danych i dla przykładów własnych.\n",
    "2. Czym róźnią się te dwie funkcje?"
   ]
  },
  {
   "cell_type": "code",
   "execution_count": null,
   "metadata": {
    "id": "SnoTjOSoIK7w"
   },
   "outputs": [],
   "source": [
    "# przewidywanie"
   ]
  },
  {
   "cell_type": "markdown",
   "metadata": {
    "id": "4ZnWXZo6TLUq"
   },
   "source": [
    "### Część 8: Walidacja"
   ]
  },
  {
   "cell_type": "markdown",
   "metadata": {
    "id": "mGky0kg_ceCX"
   },
   "source": [
    "Ciąg dalszy poprzedniego przykładu.\n",
    "\n",
    "**Odpowiedzi zamieść w sprawozdaniu.**\n"
   ]
  },
  {
   "cell_type": "code",
   "execution_count": null,
   "metadata": {
    "id": "Oqc4mUBtbC6X"
   },
   "outputs": [],
   "source": [
    "# uruchom\n",
    "\n",
    "import matplotlib.pyplot as plt\n",
    "%matplotlib inline\n",
    "\n",
    "plt.plot(history.history['accuracy'])\n",
    "plt.plot(history.history['val_accuracy'])\n",
    "plt.title('Model Accuracy')\n",
    "plt.ylabel('accuracy')\n",
    "plt.xlabel('epoch')\n",
    "plt.legend(['train', 'test'])\n",
    "plt.show()"
   ]
  },
  {
   "cell_type": "markdown",
   "metadata": {
    "id": "_REpwRjlehCg"
   },
   "source": [
    "Zmień kod oznaczony jako `### UCZENIE SIECI ###` i wybierz inne [metryki](https://keras.io/api/metrics/classification_metrics/)."
   ]
  },
  {
   "cell_type": "code",
   "execution_count": null,
   "metadata": {
    "id": "3YnEvilvdl76"
   },
   "outputs": [],
   "source": []
  },
  {
   "cell_type": "markdown",
   "metadata": {
    "id": "UFRFIY8qevJ9"
   },
   "source": [
    "Spróbuj je zwizualizować."
   ]
  },
  {
   "cell_type": "code",
   "execution_count": null,
   "metadata": {
    "id": "9cXW5uyUeueU"
   },
   "outputs": [],
   "source": []
  },
  {
   "cell_type": "markdown",
   "metadata": {
    "id": "gQd7h3QOS84e"
   },
   "source": [
    "## Zakończenie"
   ]
  },
  {
   "cell_type": "markdown",
   "metadata": {
    "id": "7slm0SPo6rhi"
   },
   "source": [
    "### Część 9: Podziel się wiedzą\n",
    "\n",
    "Podziel się linkami, do źródeł (artykułów, książek, opracowań, itp.), które pozwoliły Ci odpowiedzieć na pytania z tych laboratoriów.\n",
    "\n",
    "Możesz też wrzucić inne interesujące materiały związane z tematyką AI i/lub uczeniem nadzorowanym.\n",
    "\n",
    "**Źródła umieść w sprawozdaniu.**"
   ]
  },
  {
   "cell_type": "markdown",
   "metadata": {
    "id": "eeLUyDj4TTVr"
   },
   "source": [
    "### Część 10: Informacja zwrotna\n",
    "\n",
    "1. Czego brakowało?\n",
    "2. Czego było za mało/za dużo?\n",
    "3. Czy zainteresowałeś/łaś się tematem?\n",
    "4. Czy chciałbyś dowiedzieć się więcej?\n",
    "5. Czy było warto?\n",
    "\n",
    "**Daj znać - wyślij maila, wiadomość na MS Teams, itp.**"
   ]
  },
  {
   "cell_type": "markdown",
   "metadata": {
    "id": "ExjSEZPLT5B9"
   },
   "source": [
    "## Podziękowanie"
   ]
  },
  {
   "cell_type": "markdown",
   "metadata": {
    "id": "cgFYMB4jT627"
   },
   "source": [
    "Dziękuję serdecznie za udział w labach!"
   ]
  }
 ],
 "metadata": {
  "colab": {
   "collapsed_sections": [
    "_JpijXn0Susu",
    "QGvtnFTd1Nmi",
    "yqsx96Bw7JZm"
   ],
   "name": "pai-supervised-exercises.ipynb",
   "provenance": [],
   "toc_visible": true
  },
  "kernelspec": {
   "display_name": "Python 3",
   "language": "python",
   "name": "python3"
  },
  "language_info": {
   "codemirror_mode": {
    "name": "ipython",
    "version": 3
   },
   "file_extension": ".py",
   "mimetype": "text/x-python",
   "name": "python",
   "nbconvert_exporter": "python",
   "pygments_lexer": "ipython3",
   "version": "3.8.5"
  }
 },
 "nbformat": 4,
 "nbformat_minor": 1
}
